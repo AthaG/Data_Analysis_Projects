{
 "cells": [
  {
   "cell_type": "markdown",
   "metadata": {},
   "source": [
    "# Most attractive apps\n",
    "\n",
    "Since the main source of revenue consists of in-app ads, the number of users becomes a significant factor. This project analyzes mobile apps data to help developers understand what type of apps are likely to attract more users on Google Play and App Store.\n",
    "\n",
    "Goal of the project is to discover the kind of apps to be developed that will increase revenue through attracting the highest number of users possible.\n",
    "Finding the most attractive apps can be a guide to:\n",
    "  - Build a minimal Android version of the app and add to Google Play\n",
    "  - If the app has a good response from users, develop it further\n",
    "  - if the app is profitable after six months, build an iOS version and add it to App Store"
   ]
  },
  {
   "cell_type": "code",
   "execution_count": null,
   "metadata": {},
   "outputs": [],
   "source": [
    "from csv import reader"
   ]
  },
  {
   "cell_type": "code",
   "execution_count": null,
   "metadata": {},
   "outputs": [],
   "source": [
    "with open('AppleStore.csv', 'r') as file_opened:\n",
    "    read_lines = reader(file_opened)\n",
    "    apple_data = list(read_lines)\n",
    "\n",
    "with open('googleplaystore.csv', 'r') as file_opened:\n",
    "    read_lines = reader(file_opened)\n",
    "    google_data = list(read_lines)"
   ]
  },
  {
   "cell_type": "markdown",
   "metadata": {},
   "source": [
    "With the function `explore_data` the dataset can be sliced to the number of rows declared as `start` and `end` arguments. The argument `rows_and_columns` when set to `True` informs for the number of dataset rows and columns. "
   ]
  },
  {
   "cell_type": "code",
   "execution_count": null,
   "metadata": {},
   "outputs": [],
   "source": [
    "def explore_data(dataset, start, end, rows_and_columns=False):\n",
    "    dataset_slice = dataset[start:end]    \n",
    "    for row in dataset_slice:\n",
    "        print(row)\n",
    "        print('\\n')\n",
    "\n",
    "    if rows_and_columns:\n",
    "        print('Number of rows:', len(dataset))\n",
    "        print('Number of columns:', len(dataset[0]))"
   ]
  },
  {
   "cell_type": "code",
   "execution_count": null,
   "metadata": {},
   "outputs": [],
   "source": [
    "explore_data(apple_data, 0, 5, True)"
   ]
  },
  {
   "cell_type": "code",
   "execution_count": null,
   "metadata": {},
   "outputs": [],
   "source": [
    "explore_data(google_data, 0, 5, True)"
   ]
  },
  {
   "cell_type": "markdown",
   "metadata": {},
   "source": [
    "The documentation for the `apple_data` can be found [here](https://www.kaggle.com/ramamet4/app-store-apple-data-set-10k-apps/home).\n",
    "\n",
    "The documentation for the `google_data` can be found [here](https://www.kaggle.com/lava18/google-play-store-apps)."
   ]
  },
  {
   "cell_type": "code",
   "execution_count": null,
   "metadata": {},
   "outputs": [],
   "source": [
    "copy_apple = apple_data.copy()\n",
    "copy_google = google_data.copy()"
   ]
  },
  {
   "cell_type": "code",
   "execution_count": null,
   "metadata": {
    "scrolled": true
   },
   "outputs": [],
   "source": [
    "header_apple_data = list(enumerate(copy_apple[0]))\n",
    "print('Apple data header: ', header_apple_data)\n",
    "print('\\n')\n",
    "header_google_data = list(enumerate(copy_google[0]))\n",
    "print('Google data header: ', header_google_data)"
   ]
  },
  {
   "cell_type": "markdown",
   "metadata": {},
   "source": [
    "## Data cleaning:\n",
    "   - Remove incomplete rows\n",
    "   - Remove duplicate apps\n",
    "   - Remove non-English apps\n",
    "   - Remove apps that aren't free"
   ]
  },
  {
   "cell_type": "markdown",
   "metadata": {},
   "source": [
    "### Find and Remove Incomplete rows\n",
    "The function `incomplete_row` finds the rows that are shorter compared to the header of the dataset. The shorter rows will be removed."
   ]
  },
  {
   "cell_type": "code",
   "execution_count": null,
   "metadata": {},
   "outputs": [],
   "source": [
    "def incomplete_row(dataset):\n",
    "    for row in dataset[1:]:\n",
    "        if len(row) != len(dataset[0]):\n",
    "            print(row)\n",
    "            print('Incomplete row index: ', dataset.index(row))\n",
    "    print('All rows are complete!')"
   ]
  },
  {
   "cell_type": "markdown",
   "metadata": {},
   "source": [
    "#### Apple data"
   ]
  },
  {
   "cell_type": "code",
   "execution_count": null,
   "metadata": {
    "scrolled": true
   },
   "outputs": [],
   "source": [
    "incomplete_row(apple_data)"
   ]
  },
  {
   "cell_type": "markdown",
   "metadata": {},
   "source": [
    "#### Google data"
   ]
  },
  {
   "cell_type": "code",
   "execution_count": null,
   "metadata": {
    "scrolled": true
   },
   "outputs": [],
   "source": [
    "incomplete_row(google_data)"
   ]
  },
  {
   "cell_type": "markdown",
   "metadata": {},
   "source": [
    "The row with index `10473` misses the `Category` data and all other data are shifted one place. The row must be removed."
   ]
  },
  {
   "cell_type": "code",
   "execution_count": null,
   "metadata": {},
   "outputs": [],
   "source": [
    "del google_data[10473]"
   ]
  },
  {
   "cell_type": "code",
   "execution_count": null,
   "metadata": {},
   "outputs": [],
   "source": [
    "print('New length of google_data: ', len(google_data))"
   ]
  },
  {
   "cell_type": "markdown",
   "metadata": {},
   "source": [
    "### Find and Remove Duplicate rows\n",
    "The function `find_duplicate` is searching by app name for any duplicated apps in a dataset."
   ]
  },
  {
   "cell_type": "code",
   "execution_count": null,
   "metadata": {},
   "outputs": [],
   "source": [
    "def find_duplicate(dataset, index):\n",
    "    duplicate_apps = []\n",
    "    unique_apps = []\n",
    "    for row in dataset[1:]:\n",
    "        name = row[index]\n",
    "        if name in unique_apps:\n",
    "            duplicate_apps.append(name)\n",
    "        else:\n",
    "            unique_apps.append(name)\n",
    "    print(len(duplicate_apps))\n",
    "    return duplicate_apps"
   ]
  },
  {
   "cell_type": "markdown",
   "metadata": {},
   "source": [
    "#### Apple data"
   ]
  },
  {
   "cell_type": "code",
   "execution_count": null,
   "metadata": {
    "scrolled": true
   },
   "outputs": [],
   "source": [
    "find_duplicate(apple_data, 1)"
   ]
  },
  {
   "cell_type": "markdown",
   "metadata": {},
   "source": [
    "The dataset `apple_data` has two duplicated apps. Exploring these rows, it can be assumed that data were collected at different times for different versions of the same app. Therefore, the rows for the old versions will be removed. Since the newest versions have more total ratings the `rating_count_tot` column will be used as guide for the removal.\n",
    "The find and removal process can be done manually for this dataset."
   ]
  },
  {
   "cell_type": "code",
   "execution_count": null,
   "metadata": {},
   "outputs": [],
   "source": [
    "for row in apple_data[1:]:\n",
    "    name = row[1]\n",
    "    if name == 'Mannequin Challenge' or name == 'VR Roller Coaster':\n",
    "        print(row)"
   ]
  },
  {
   "cell_type": "code",
   "execution_count": null,
   "metadata": {},
   "outputs": [],
   "source": [
    "for app in apple_data[1:]:\n",
    "    id_app = app[0]\n",
    "    if id_app == '1178454060' or id_app == '1089824278':\n",
    "        print(apple_data.index(app))"
   ]
  },
  {
   "cell_type": "code",
   "execution_count": null,
   "metadata": {},
   "outputs": [],
   "source": [
    "print(len(apple_data))\n",
    "del apple_data[4464]\n",
    "del apple_data[4832]\n",
    "print(len(apple_data))"
   ]
  },
  {
   "cell_type": "markdown",
   "metadata": {},
   "source": [
    "#### Google data"
   ]
  },
  {
   "cell_type": "markdown",
   "metadata": {},
   "source": [
    "The dataset `google_data` has 1181 duplicated rows. Exploring these rows it can be assumed that data for some apps were collected more than once at the same or different time. Therefore, the apps with lesser number of `Reviews` will be removed and the one with the max number will be included."
   ]
  },
  {
   "cell_type": "code",
   "execution_count": null,
   "metadata": {
    "scrolled": true
   },
   "outputs": [],
   "source": [
    "find_duplicate(google_data, 0)"
   ]
  },
  {
   "cell_type": "markdown",
   "metadata": {},
   "source": [
    "The dictionary `duplicates` informs of more than one duplicates of the same app. For example the app `Viber Messanger` has 5 entries. Four in the `duplicate_apps` list and one in the `unique_apps` list."
   ]
  },
  {
   "cell_type": "code",
   "execution_count": null,
   "metadata": {},
   "outputs": [],
   "source": [
    "duplicates = {}\n",
    "for name in find_duplicate(google_data, 0):\n",
    "    if name in duplicates:\n",
    "        duplicates[name] += 1\n",
    "    else:\n",
    "        duplicates[name] = 1\n",
    "print(duplicates)\n",
    "print(len(duplicates))"
   ]
  },
  {
   "cell_type": "code",
   "execution_count": null,
   "metadata": {},
   "outputs": [],
   "source": [
    "for app in google_data[1:]:\n",
    "    name = app[0]\n",
    "    if name == 'Viber Messenger':\n",
    "        print(app)"
   ]
  },
  {
   "cell_type": "code",
   "execution_count": null,
   "metadata": {},
   "outputs": [],
   "source": [
    "review_max = {}\n",
    "\n",
    "for row in google_data[1:]:\n",
    "    name = row[0]\n",
    "    n_review = int(row[3])\n",
    "    if name in review_max and review_max[name] < n_review:\n",
    "        review_max[name] = n_review\n",
    "    if name not in review_max:\n",
    "        review_max[name] = n_review\n",
    "print(len(review_max))\n",
    "print(len(google_data[1:])-1181)\n",
    "print(review_max['Viber Messenger'])"
   ]
  },
  {
   "cell_type": "code",
   "execution_count": null,
   "metadata": {},
   "outputs": [],
   "source": [
    "google_data_clean = []\n",
    "google_name_added = []\n",
    "\n",
    "for app in google_data[1:]:\n",
    "    name = app[0]\n",
    "    n_review = int(app[3])\n",
    "    if name not in google_name_added and n_review == review_max[name]:\n",
    "        google_data_clean.append(app)\n",
    "        google_name_added.append(name)\n",
    "print(len(google_data_clean))"
   ]
  },
  {
   "cell_type": "code",
   "execution_count": null,
   "metadata": {},
   "outputs": [],
   "source": [
    "for app in google_data_clean:\n",
    "    name = app[0]\n",
    "    if name == 'Viber Messenger':\n",
    "        print(app)"
   ]
  },
  {
   "cell_type": "markdown",
   "metadata": {},
   "source": [
    "### Find and Remove non-English apps"
   ]
  },
  {
   "cell_type": "markdown",
   "metadata": {},
   "source": [
    "The function `english_app` is used to seperate the non-english apps. If an app has more than 3 non-english letters in its name, it can be remove from the dataset."
   ]
  },
  {
   "cell_type": "code",
   "execution_count": null,
   "metadata": {},
   "outputs": [],
   "source": [
    "def english_app(string):\n",
    "    non_eng = 0\n",
    "    for letter in string:\n",
    "        if ord(letter) > 127:\n",
    "            non_eng += 1\n",
    "    if non_eng > 3:\n",
    "        return False\n",
    "    return True"
   ]
  },
  {
   "cell_type": "markdown",
   "metadata": {},
   "source": [
    "#### Apple data"
   ]
  },
  {
   "cell_type": "code",
   "execution_count": null,
   "metadata": {},
   "outputs": [],
   "source": [
    "apple_data_eng = []\n",
    "\n",
    "for row in apple_data[1:]:\n",
    "    name = row[1]\n",
    "    if english_app(name):\n",
    "        apple_data_eng.append(row)\n",
    "print(len(apple_data_eng))    "
   ]
  },
  {
   "cell_type": "markdown",
   "metadata": {},
   "source": [
    "#### Google data"
   ]
  },
  {
   "cell_type": "code",
   "execution_count": null,
   "metadata": {},
   "outputs": [],
   "source": [
    "google_data_eng = []\n",
    "\n",
    "for row in google_data_clean:\n",
    "    name = row[0]\n",
    "    if english_app(name):\n",
    "        google_data_eng.append(row)\n",
    "print(len(google_data_eng))"
   ]
  },
  {
   "cell_type": "markdown",
   "metadata": {},
   "source": [
    "### Find and Remove non-Free apps"
   ]
  },
  {
   "cell_type": "markdown",
   "metadata": {},
   "source": [
    "#### Apple data"
   ]
  },
  {
   "cell_type": "code",
   "execution_count": null,
   "metadata": {},
   "outputs": [],
   "source": [
    "apple_data_free = []\n",
    "\n",
    "for row in apple_data_eng:\n",
    "    price = float(row[4])\n",
    "    if price == 0.0:\n",
    "        apple_data_free.append(row)\n",
    "print(len(apple_data_free))"
   ]
  },
  {
   "cell_type": "markdown",
   "metadata": {},
   "source": [
    "#### Google data"
   ]
  },
  {
   "cell_type": "code",
   "execution_count": null,
   "metadata": {},
   "outputs": [],
   "source": [
    "google_data_free = []\n",
    "\n",
    "for row in google_data_eng:\n",
    "    type = row[6]\n",
    "    if type == 'Free':\n",
    "        google_data_free.append(row)\n",
    "print(len(google_data_free))"
   ]
  },
  {
   "cell_type": "markdown",
   "metadata": {},
   "source": [
    "## Find the most popular genres\n",
    "An effective stategy to decide on what kind of apps should be build is to explore the most common genres in both stores. It can be assumed that these kinds of apps have higher demand."
   ]
  },
  {
   "cell_type": "markdown",
   "metadata": {},
   "source": [
    "The function `freq_table` creates a dictionary that lists the genres of the dataset and assigns to them the percentage of their appearance in the dataset. The function `display_table` sorts the percentages in descenting order. "
   ]
  },
  {
   "cell_type": "code",
   "execution_count": null,
   "metadata": {},
   "outputs": [],
   "source": [
    "def freq_table(dataset, index):\n",
    "    freq_dict = {}\n",
    "    total = 0\n",
    "    \n",
    "    for app in dataset:\n",
    "        total += 1\n",
    "        genre = app[index]\n",
    "        if genre in freq_dict:\n",
    "            freq_dict[genre] += 1\n",
    "        else:\n",
    "            freq_dict[genre] = 1\n",
    "            \n",
    "    percent_freq = {}\n",
    "    for key in freq_dict:\n",
    "        percent_freq[key] = (freq_dict[key]/total) * 100\n",
    "    return percent_freq\n",
    "    \n",
    "def display_table(dataset, index):\n",
    "    table = freq_table(dataset, index)\n",
    "    sort_table = []\n",
    "    for key in table:\n",
    "        to_tuple = (table[key], key)\n",
    "        sort_table.append(to_tuple)\n",
    "        \n",
    "    sort_freq_perc = sorted(sort_table, reverse = True)\n",
    "    for item in sort_freq_perc:\n",
    "        print(item[1], ':', item[0])"
   ]
  },
  {
   "cell_type": "markdown",
   "metadata": {},
   "source": [
    "#### Apple data\n",
    "Exploring the results for the `apple_data_free` dataset we see that the genre `Games` comes first with a big difference in comparison to other genres."
   ]
  },
  {
   "cell_type": "code",
   "execution_count": null,
   "metadata": {
    "scrolled": true
   },
   "outputs": [],
   "source": [
    "display_table(apple_data_free, 11)"
   ]
  },
  {
   "cell_type": "markdown",
   "metadata": {},
   "source": [
    "#### Google data\n",
    "The landscape is different for the `google_data_free` dataset. It seems that in Google Play we can find more family-friendly apps. Since the relevant genre doesn't exist in the `apple_data_free` dataset we can not realy draw any definitive conclusion. It seems though that in both stores the entertaining apps have the highest demand."
   ]
  },
  {
   "cell_type": "code",
   "execution_count": null,
   "metadata": {
    "scrolled": true
   },
   "outputs": [],
   "source": [
    "display_table(google_data_free, 1)"
   ]
  },
  {
   "cell_type": "markdown",
   "metadata": {},
   "source": [
    "### Find the number of downloads for each genre"
   ]
  },
  {
   "cell_type": "markdown",
   "metadata": {},
   "source": [
    "Another important factor is the number of dowloads for each genre. This factor may give us more information about the kind of apps we should build to increase revenue. Therefore, we will use the data in the `Installs` column for the `google_data_free` dataset. Since the relevant column for the `apple_data_free` doesn't exist, we will use the `rating_count_tot` instead and try to meet a decision from there."
   ]
  },
  {
   "cell_type": "markdown",
   "metadata": {},
   "source": [
    "#### Apple data\n",
    "Exploring the results we come to the conclusion that the most popular apps regarding the times that were rated are the `Navigation` apps with 86090.33. In second place are coming the `Reference` apps and in third place the `Social Networking` apps."
   ]
  },
  {
   "cell_type": "code",
   "execution_count": null,
   "metadata": {},
   "outputs": [],
   "source": [
    "genre_apple = freq_table(apple_data_free, 11)\n",
    "\n",
    "for genre in genre_apple:\n",
    "    total = 0\n",
    "    len_genre = 0\n",
    "    for app in apple_data_free:\n",
    "        genre_app = app[11]\n",
    "        if genre_app == genre:            \n",
    "            n_ratings = float(app[5])\n",
    "            total += n_ratings\n",
    "            len_genre += 1\n",
    "    avg_n_ratings = total / len_genre\n",
    "    print(genre, ':', round(avg_n_ratings, 2))"
   ]
  },
  {
   "cell_type": "code",
   "execution_count": null,
   "metadata": {},
   "outputs": [],
   "source": [
    "for app in apple_data_free:\n",
    "    genre = app[11]\n",
    "    if genre == 'Navigation':\n",
    "        print(app[1], ':', app[5])"
   ]
  },
  {
   "cell_type": "code",
   "execution_count": null,
   "metadata": {},
   "outputs": [],
   "source": [
    "for app in apple_data_free:\n",
    "    genre = app[11]\n",
    "    if genre == 'Reference':\n",
    "        print(app[1], ':', app[5])"
   ]
  },
  {
   "cell_type": "code",
   "execution_count": null,
   "metadata": {},
   "outputs": [],
   "source": [
    "for app in apple_data_free:\n",
    "    genre = app[11]\n",
    "    if genre == 'Social Networking':\n",
    "        print(app[1], ':', app[5])"
   ]
  },
  {
   "cell_type": "markdown",
   "metadata": {},
   "source": [
    "#### Google data\n",
    "For the Google Play market, we actually have data about the number of `Installs`, so we should be able to get a clearer picture about genre popularity. However, the install numbers don't seem precise enough — we can see that most values are open-ended (100+, 1,000+, 5,000+, etc.)."
   ]
  },
  {
   "cell_type": "code",
   "execution_count": null,
   "metadata": {},
   "outputs": [],
   "source": [
    "display_table(google_data_free,5)"
   ]
  },
  {
   "cell_type": "markdown",
   "metadata": {},
   "source": [
    "One problem with this data is that is not precise. For instance, we don't know whether an app with 100,000+ installs has 100,000 installs, 200,000, or 350,000. However, we don't need very precise data for our purposes — we only want to get an idea which app genres attract the most users, and we don't need perfect precision with respect to the number of users."
   ]
  },
  {
   "cell_type": "code",
   "execution_count": null,
   "metadata": {},
   "outputs": [],
   "source": [
    "categories_android = freq_table(google_data_free, 1)\n",
    "\n",
    "for category in categories_android:\n",
    "    total = 0\n",
    "    len_category = 0\n",
    "    for app in google_data_free:\n",
    "        category_app = app[1]\n",
    "        if category_app == category:            \n",
    "            n_installs = app[5]\n",
    "            n_installs = n_installs.replace(',', '')\n",
    "            n_installs = n_installs.replace('+', '')\n",
    "            total += float(n_installs)\n",
    "            len_category += 1\n",
    "    avg_n_installs = total / len_category\n",
    "    print(category, ':', avg_n_installs)"
   ]
  },
  {
   "cell_type": "markdown",
   "metadata": {},
   "source": [
    "On average, `COMUNICATION` apps have the most installs: 38,456,119. This number is heavily skewed up by a few apps that have over one billion installs (WhatsApp, Facebook Messenger, Skype, Google Chrome, Gmail, and Hangouts), and a few others with over 100 and 500 million installs"
   ]
  },
  {
   "cell_type": "code",
   "execution_count": null,
   "metadata": {},
   "outputs": [],
   "source": [
    "for app in google_data_free:\n",
    "    if app[1] == 'COMMUNICATION' and (app[5] == '1,000,000,000+'\n",
    "                                      or app[5] == '500,000,000+'\n",
    "                                      or app[5] == '100,000,000+'):\n",
    "        print(app[0], ':', app[5])"
   ]
  },
  {
   "cell_type": "code",
   "execution_count": null,
   "metadata": {},
   "outputs": [],
   "source": [
    "under_100_m = []\n",
    "\n",
    "for app in google_data_free:\n",
    "    n_installs = app[5]\n",
    "    n_installs = n_installs.replace(',', '')\n",
    "    n_installs = n_installs.replace('+', '')\n",
    "    if (app[1] == 'COMMUNICATION') and (float(n_installs) < 100000000):\n",
    "        under_100_m.append(float(n_installs))\n",
    "        \n",
    "sum(under_100_m) / len(under_100_m)"
   ]
  },
  {
   "cell_type": "markdown",
   "metadata": {},
   "source": [
    "The `BOOKS_AND_REFERENCE` genre looks fairly popular as well, with an average number of installs of 8,767,811. It's interesting to explore this in more depth, since we found this genre has some potential to work well on the App Store, and our aim is to recommend an app genre that shows potential for being profitable on both the App Store and Google Play."
   ]
  },
  {
   "cell_type": "code",
   "execution_count": null,
   "metadata": {},
   "outputs": [],
   "source": [
    "for app in google_data_free:\n",
    "    if app[1] == 'BOOKS_AND_REFERENCE':\n",
    "        print(app[0], ':', app[5])"
   ]
  },
  {
   "cell_type": "markdown",
   "metadata": {},
   "source": [
    "This niche seems to be dominated by software for processing and reading ebooks, as well as various collections of libraries and dictionaries, so it's probably not a good idea to build similar apps since there'll be some significant competition.\n",
    "\n",
    "We also notice there are quite a few apps built around the book Quran, which suggests that building an app around a popular book can be profitable. It seems that taking a popular book (perhaps a more recent book) and turning it into an app could be profitable for both the Google Play and the App Store markets.\n",
    "\n",
    "However, it looks like the market is already full of libraries, so we need to add some special features besides the raw version of the book. This might include daily quotes from the book, an audio version of the book, quizzes on the book, a forum where people can discuss the book, etc."
   ]
  },
  {
   "cell_type": "markdown",
   "metadata": {},
   "source": [
    "## Conclusion\n",
    "\n",
    "In this project, we analyzed data about the App Store and Google Play mobile apps with the goal of recommending an app profile that can be profitable for both markets.\n",
    "\n",
    "We concluded that taking a popular book (perhaps a more recent book) and turning it into an app could be profitable for both the Google Play and the App Store markets. The markets are already full of libraries, so we need to add some special features besides the raw version of the book. This might include daily quotes from the book, an audio version of the book, quizzes on the book, a forum where people can discuss the book, etc."
   ]
  }
 ],
 "metadata": {
  "kernelspec": {
   "display_name": "Python 3",
   "language": "python",
   "name": "python3"
  },
  "language_info": {
   "codemirror_mode": {
    "name": "ipython",
    "version": 3
   },
   "file_extension": ".py",
   "mimetype": "text/x-python",
   "name": "python",
   "nbconvert_exporter": "python",
   "pygments_lexer": "ipython3",
   "version": "3.7.3"
  }
 },
 "nbformat": 4,
 "nbformat_minor": 2
}